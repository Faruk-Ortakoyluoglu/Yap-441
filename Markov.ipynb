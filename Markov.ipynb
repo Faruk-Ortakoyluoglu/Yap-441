{
 "cells": [
  {
   "cell_type": "code",
   "execution_count": 1,
   "metadata": {},
   "outputs": [],
   "source": [
    "import pandas as pd\n",
    "import numpy as np\n",
    "from indicators import calc_rsi \n",
    "from indicators import calc_macd"
   ]
  },
  {
   "cell_type": "code",
   "execution_count": 2,
   "metadata": {},
   "outputs": [
    {
     "name": "stdout",
     "output_type": "stream",
     "text": [
      "Bull days are: [1, 4, 7, 9, 11, 14, 15, 17, 20, 23, 26, 30, 32, 34, 36, 40, 41, 42, 47, 53, 56, 58, 60, 62, 66, 67, 72, 74, 75, 77, 79, 81, 82, 84, 86, 89, 90, 99, 101, 102, 103, 105, 107, 108, 111, 112, 113, 114, 115, 116, 117, 119, 120, 121, 122, 123, 125, 129, 131, 132, 143, 146, 149, 150, 152, 156, 158, 159, 160, 161, 164, 165, 166, 169, 172, 173, 176, 177, 179, 180, 183, 184, 185, 190, 192, 197, 198, 199, 200, 201, 202, 203, 209, 213, 214, 215, 217, 219, 224, 228, 232, 236, 237, 245, 246, 249, 252, 253, 254, 257, 259, 260, 262, 263, 264, 265, 267, 269, 271, 273, 275, 278, 280, 281, 283, 286, 288, 289, 294, 295, 298, 299, 300, 302, 307, 310, 312, 313, 316, 321, 325, 326, 330, 331, 332, 333, 336, 337, 338, 341, 343, 344, 345, 347, 351, 352, 353, 356, 357, 358, 359, 360, 363, 365, 370, 377, 379, 380, 384, 387, 389, 390, 391, 398, 400, 402, 404, 406, 407, 408, 411, 414, 419, 420, 422, 423, 424, 426, 432, 433, 434, 435, 438, 439, 440, 442, 443, 444, 448, 450, 451, 452, 453, 454, 455, 456, 458, 460, 461, 464, 467, 468, 469, 477, 478, 479, 480, 484, 485, 487, 489, 492, 494, 495, 496, 497, 501, 503, 505, 507, 508, 509, 510, 511, 512, 514, 518, 519, 520, 523, 524, 525, 530, 531, 532, 536, 537, 538, 541, 542, 544, 551, 555, 556, 557, 559, 561, 562, 563, 564, 565, 566, 567, 570, 571, 572, 573, 574, 575, 577, 578, 579, 580, 581, 582, 586, 587, 588, 592, 593, 594, 598, 599, 602, 605, 606, 607, 608, 610, 613, 617, 618, 619, 620, 623, 624, 628, 629, 630, 631, 633, 638, 639, 643, 644, 649, 650, 651, 652, 654, 656, 658, 661, 663, 666, 668, 669, 670, 673, 675, 678, 679, 681, 683, 684, 685, 688, 689, 691, 692, 697, 704, 706, 709, 711, 715, 716, 718, 721, 722, 723, 726, 728, 731, 732, 735, 740, 742, 743, 745, 747, 748, 749, 750, 751, 752, 753, 755, 760, 761, 766, 767, 768, 769, 770, 771, 772, 774, 775, 778, 780, 784, 788, 790, 792, 793, 795, 796, 798, 799, 800, 802, 804, 810, 811, 812, 813, 814, 817, 820, 822, 823, 826, 829, 830, 831, 833, 835, 837, 838, 843, 849, 850, 851, 852, 853, 856, 859, 861, 862, 864, 865, 868, 870, 871, 873, 876, 877, 880, 884, 885, 887, 888, 892, 893, 894, 896, 900, 901, 904, 905, 907, 908, 909, 910, 913, 914, 915, 917, 918, 920, 922, 924, 928, 929, 932, 933, 934, 936, 937, 938, 940, 946, 953, 955, 956, 957, 959, 961, 962, 964, 965, 966, 968, 970, 972, 977, 978, 980, 981, 982, 983, 988, 991, 992, 995, 997, 998] 478\n",
      "Bear days are: [0, 2, 3, 5, 6, 8, 10, 12, 13, 18, 19, 22, 24, 25, 27, 28, 29, 31, 33, 35, 38, 39, 43, 44, 46, 48, 49, 50, 51, 54, 57, 59, 61, 63, 64, 68, 69, 70, 71, 73, 76, 78, 80, 83, 85, 87, 88, 91, 92, 93, 94, 95, 96, 97, 98, 100, 104, 106, 109, 110, 118, 124, 126, 127, 128, 130, 133, 134, 135, 136, 137, 138, 139, 142, 144, 145, 148, 151, 153, 154, 155, 162, 163, 167, 170, 175, 182, 186, 187, 188, 189, 191, 193, 194, 196, 204, 205, 206, 207, 210, 211, 212, 218, 220, 221, 223, 225, 226, 227, 229, 233, 235, 239, 240, 241, 242, 244, 248, 250, 256, 258, 266, 268, 270, 272, 274, 276, 277, 279, 282, 284, 285, 287, 290, 291, 292, 293, 296, 297, 301, 303, 304, 305, 306, 308, 309, 311, 314, 315, 317, 318, 319, 320, 322, 323, 324, 327, 328, 329, 334, 335, 339, 340, 342, 346, 348, 349, 350, 354, 355, 361, 362, 364, 367, 368, 369, 371, 372, 373, 374, 375, 376, 378, 381, 382, 383, 385, 386, 388, 392, 393, 394, 395, 396, 397, 399, 401, 403, 405, 409, 410, 412, 413, 415, 416, 417, 418, 421, 425, 427, 428, 429, 430, 431, 436, 437, 441, 445, 447, 457, 459, 462, 463, 465, 466, 470, 471, 472, 473, 474, 475, 476, 481, 482, 483, 486, 488, 490, 491, 493, 498, 499, 500, 502, 504, 506, 513, 515, 516, 517, 521, 522, 526, 527, 528, 529, 533, 534, 535, 539, 540, 543, 545, 546, 547, 548, 549, 552, 554, 558, 560, 568, 569, 576, 583, 584, 585, 589, 590, 591, 595, 596, 597, 600, 601, 603, 604, 609, 614, 615, 621, 625, 626, 627, 632, 635, 637, 640, 642, 645, 646, 647, 648, 653, 655, 657, 659, 660, 662, 664, 665, 667, 672, 674, 676, 677, 680, 682, 686, 690, 693, 694, 695, 696, 698, 699, 703, 705, 707, 708, 710, 712, 713, 714, 717, 719, 720, 725, 727, 729, 730, 733, 734, 736, 737, 738, 741, 744, 746, 754, 757, 758, 759, 762, 763, 764, 773, 777, 779, 781, 782, 783, 785, 786, 787, 789, 791, 794, 801, 803, 806, 807, 808, 815, 818, 819, 821, 824, 827, 832, 834, 836, 839, 840, 841, 842, 844, 845, 846, 854, 855, 858, 860, 863, 866, 867, 872, 874, 875, 878, 879, 881, 882, 883, 886, 890, 891, 895, 897, 898, 902, 903, 906, 911, 912, 916, 919, 923, 925, 926, 927, 931, 935, 939, 941, 942, 943, 944, 945, 948, 949, 950, 951, 952, 954, 958, 960, 963, 967, 969, 971, 973, 974, 976, 979, 986, 987, 989, 990, 993, 994, 996] 452\n",
      "Horizontal days are: [16, 21, 37, 45, 52, 55, 65, 140, 141, 147, 157, 168, 171, 174, 178, 181, 195, 208, 216, 222, 230, 231, 234, 238, 243, 247, 251, 255, 261, 366, 446, 449, 550, 553, 611, 612, 616, 622, 634, 636, 641, 671, 687, 700, 701, 702, 724, 739, 756, 765, 776, 797, 805, 809, 816, 825, 828, 847, 848, 857, 869, 889, 899, 921, 930, 947, 975, 984, 985, 999] 70\n",
      "Combined result is:  ['bear', 'bull', 'bear', 'bear', 'bull', 'bear', 'bear', 'bull', 'bear', 'bull', 'bear', 'bull', 'bear', 'bear', 'bull', 'bull', 'horizontal', 'bull', 'bear', 'bear', 'bull', 'horizontal', 'bear', 'bull', 'bear', 'bear', 'bull', 'bear', 'bear', 'bear', 'bull', 'bear', 'bull', 'bear', 'bull', 'bear', 'bull', 'horizontal', 'bear', 'bear', 'bull', 'bull', 'bull', 'bear', 'bear', 'horizontal', 'bear', 'bull', 'bear', 'bear', 'bear', 'bear', 'horizontal', 'bull', 'bear', 'horizontal', 'bull', 'bear', 'bull', 'bear', 'bull', 'bear', 'bull', 'bear', 'bear', 'horizontal', 'bull', 'bull', 'bear', 'bear', 'bear', 'bear', 'bull', 'bear', 'bull', 'bull', 'bear', 'bull', 'bear', 'bull', 'bear', 'bull', 'bull', 'bear', 'bull', 'bear', 'bull', 'bear', 'bear', 'bull', 'bull', 'bear', 'bear', 'bear', 'bear', 'bear', 'bear', 'bear', 'bear', 'bull', 'bear', 'bull', 'bull', 'bull', 'bear', 'bull', 'bear', 'bull', 'bull', 'bear', 'bear', 'bull', 'bull', 'bull', 'bull', 'bull', 'bull', 'bull', 'bear', 'bull', 'bull', 'bull', 'bull', 'bull', 'bear', 'bull', 'bear', 'bear', 'bear', 'bull', 'bear', 'bull', 'bull', 'bear', 'bear', 'bear', 'bear', 'bear', 'bear', 'bear', 'horizontal', 'horizontal', 'bear', 'bull', 'bear', 'bear', 'bull', 'horizontal', 'bear', 'bull', 'bull', 'bear', 'bull', 'bear', 'bear', 'bear', 'bull', 'horizontal', 'bull', 'bull', 'bull', 'bull', 'bear', 'bear', 'bull', 'bull', 'bull', 'bear', 'horizontal', 'bull', 'bear', 'horizontal', 'bull', 'bull', 'horizontal', 'bear', 'bull', 'bull', 'horizontal', 'bull', 'bull', 'horizontal', 'bear', 'bull', 'bull', 'bull', 'bear', 'bear', 'bear', 'bear', 'bull', 'bear', 'bull', 'bear', 'bear', 'horizontal', 'bear', 'bull', 'bull', 'bull', 'bull', 'bull', 'bull', 'bull', 'bear', 'bear', 'bear', 'bear', 'horizontal', 'bull', 'bear', 'bear', 'bear', 'bull', 'bull', 'bull', 'horizontal', 'bull', 'bear', 'bull', 'bear', 'bear', 'horizontal', 'bear', 'bull', 'bear', 'bear', 'bear', 'bull', 'bear', 'horizontal', 'horizontal', 'bull', 'bear', 'horizontal', 'bear', 'bull', 'bull', 'horizontal', 'bear', 'bear', 'bear', 'bear', 'horizontal', 'bear', 'bull', 'bull', 'horizontal', 'bear', 'bull', 'bear', 'horizontal', 'bull', 'bull', 'bull', 'horizontal', 'bear', 'bull', 'bear', 'bull', 'bull', 'horizontal', 'bull', 'bull', 'bull', 'bull', 'bear', 'bull', 'bear', 'bull', 'bear', 'bull', 'bear', 'bull', 'bear', 'bull', 'bear', 'bear', 'bull', 'bear', 'bull', 'bull', 'bear', 'bull', 'bear', 'bear', 'bull', 'bear', 'bull', 'bull', 'bear', 'bear', 'bear', 'bear', 'bull', 'bull', 'bear', 'bear', 'bull', 'bull', 'bull', 'bear', 'bull', 'bear', 'bear', 'bear', 'bear', 'bull', 'bear', 'bear', 'bull', 'bear', 'bull', 'bull', 'bear', 'bear', 'bull', 'bear', 'bear', 'bear', 'bear', 'bull', 'bear', 'bear', 'bear', 'bull', 'bull', 'bear', 'bear', 'bear', 'bull', 'bull', 'bull', 'bull', 'bear', 'bear', 'bull', 'bull', 'bull', 'bear', 'bear', 'bull', 'bear', 'bull', 'bull', 'bull', 'bear', 'bull', 'bear', 'bear', 'bear', 'bull', 'bull', 'bull', 'bear', 'bear', 'bull', 'bull', 'bull', 'bull', 'bull', 'bear', 'bear', 'bull', 'bear', 'bull', 'horizontal', 'bear', 'bear', 'bear', 'bull', 'bear', 'bear', 'bear', 'bear', 'bear', 'bear', 'bull', 'bear', 'bull', 'bull', 'bear', 'bear', 'bear', 'bull', 'bear', 'bear', 'bull', 'bear', 'bull', 'bull', 'bull', 'bear', 'bear', 'bear', 'bear', 'bear', 'bear', 'bull', 'bear', 'bull', 'bear', 'bull', 'bear', 'bull', 'bear', 'bull', 'bull', 'bull', 'bear', 'bear', 'bull', 'bear', 'bear', 'bull', 'bear', 'bear', 'bear', 'bear', 'bull', 'bull', 'bear', 'bull', 'bull', 'bull', 'bear', 'bull', 'bear', 'bear', 'bear', 'bear', 'bear', 'bull', 'bull', 'bull', 'bull', 'bear', 'bear', 'bull', 'bull', 'bull', 'bear', 'bull', 'bull', 'bull', 'bear', 'horizontal', 'bear', 'bull', 'horizontal', 'bull', 'bull', 'bull', 'bull', 'bull', 'bull', 'bull', 'bear', 'bull', 'bear', 'bull', 'bull', 'bear', 'bear', 'bull', 'bear', 'bear', 'bull', 'bull', 'bull', 'bear', 'bear', 'bear', 'bear', 'bear', 'bear', 'bear', 'bull', 'bull', 'bull', 'bull', 'bear', 'bear', 'bear', 'bull', 'bull', 'bear', 'bull', 'bear', 'bull', 'bear', 'bear', 'bull', 'bear', 'bull', 'bull', 'bull', 'bull', 'bear', 'bear', 'bear', 'bull', 'bear', 'bull', 'bear', 'bull', 'bear', 'bull', 'bull', 'bull', 'bull', 'bull', 'bull', 'bear', 'bull', 'bear', 'bear', 'bear', 'bull', 'bull', 'bull', 'bear', 'bear', 'bull', 'bull', 'bull', 'bear', 'bear', 'bear', 'bear', 'bull', 'bull', 'bull', 'bear', 'bear', 'bear', 'bull', 'bull', 'bull', 'bear', 'bear', 'bull', 'bull', 'bear', 'bull', 'bear', 'bear', 'bear', 'bear', 'bear', 'horizontal', 'bull', 'bear', 'horizontal', 'bear', 'bull', 'bull', 'bull', 'bear', 'bull', 'bear', 'bull', 'bull', 'bull', 'bull', 'bull', 'bull', 'bull', 'bear', 'bear', 'bull', 'bull', 'bull', 'bull', 'bull', 'bull', 'bear', 'bull', 'bull', 'bull', 'bull', 'bull', 'bull', 'bear', 'bear', 'bear', 'bull', 'bull', 'bull', 'bear', 'bear', 'bear', 'bull', 'bull', 'bull', 'bear', 'bear', 'bear', 'bull', 'bull', 'bear', 'bear', 'bull', 'bear', 'bear', 'bull', 'bull', 'bull', 'bull', 'bear', 'bull', 'horizontal', 'horizontal', 'bull', 'bear', 'bear', 'horizontal', 'bull', 'bull', 'bull', 'bull', 'bear', 'horizontal', 'bull', 'bull', 'bear', 'bear', 'bear', 'bull', 'bull', 'bull', 'bull', 'bear', 'bull', 'horizontal', 'bear', 'horizontal', 'bear', 'bull', 'bull', 'bear', 'horizontal', 'bear', 'bull', 'bull', 'bear', 'bear', 'bear', 'bear', 'bull', 'bull', 'bull', 'bull', 'bear', 'bull', 'bear', 'bull', 'bear', 'bull', 'bear', 'bear', 'bull', 'bear', 'bull', 'bear', 'bear', 'bull', 'bear', 'bull', 'bull', 'bull', 'horizontal', 'bear', 'bull', 'bear', 'bull', 'bear', 'bear', 'bull', 'bull', 'bear', 'bull', 'bear', 'bull', 'bull', 'bull', 'bear', 'horizontal', 'bull', 'bull', 'bear', 'bull', 'bull', 'bear', 'bear', 'bear', 'bear', 'bull', 'bear', 'bear', 'horizontal', 'horizontal', 'horizontal', 'bear', 'bull', 'bear', 'bull', 'bear', 'bear', 'bull', 'bear', 'bull', 'bear', 'bear', 'bear', 'bull', 'bull', 'bear', 'bull', 'bear', 'bear', 'bull', 'bull', 'bull', 'horizontal', 'bear', 'bull', 'bear', 'bull', 'bear', 'bear', 'bull', 'bull', 'bear', 'bear', 'bull', 'bear', 'bear', 'bear', 'horizontal', 'bull', 'bear', 'bull', 'bull', 'bear', 'bull', 'bear', 'bull', 'bull', 'bull', 'bull', 'bull', 'bull', 'bull', 'bear', 'bull', 'horizontal', 'bear', 'bear', 'bear', 'bull', 'bull', 'bear', 'bear', 'bear', 'horizontal', 'bull', 'bull', 'bull', 'bull', 'bull', 'bull', 'bull', 'bear', 'bull', 'bull', 'horizontal', 'bear', 'bull', 'bear', 'bull', 'bear', 'bear', 'bear', 'bull', 'bear', 'bear', 'bear', 'bull', 'bear', 'bull', 'bear', 'bull', 'bull', 'bear', 'bull', 'bull', 'horizontal', 'bull', 'bull', 'bull', 'bear', 'bull', 'bear', 'bull', 'horizontal', 'bear', 'bear', 'bear', 'horizontal', 'bull', 'bull', 'bull', 'bull', 'bull', 'bear', 'horizontal', 'bull', 'bear', 'bear', 'bull', 'bear', 'bull', 'bull', 'bear', 'horizontal', 'bull', 'bear', 'horizontal', 'bull', 'bull', 'bull', 'bear', 'bull', 'bear', 'bull', 'bear', 'bull', 'bull', 'bear', 'bear', 'bear', 'bear', 'bull', 'bear', 'bear', 'bear', 'horizontal', 'horizontal', 'bull', 'bull', 'bull', 'bull', 'bull', 'bear', 'bear', 'bull', 'horizontal', 'bear', 'bull', 'bear', 'bull', 'bull', 'bear', 'bull', 'bull', 'bear', 'bear', 'bull', 'horizontal', 'bull', 'bull', 'bear', 'bull', 'bear', 'bear', 'bull', 'bull', 'bear', 'bear', 'bull', 'bear', 'bear', 'bear', 'bull', 'bull', 'bear', 'bull', 'bull', 'horizontal', 'bear', 'bear', 'bull', 'bull', 'bull', 'bear', 'bull', 'bear', 'bear', 'horizontal', 'bull', 'bull', 'bear', 'bear', 'bull', 'bull', 'bear', 'bull', 'bull', 'bull', 'bull', 'bear', 'bear', 'bull', 'bull', 'bull', 'bear', 'bull', 'bull', 'bear', 'bull', 'horizontal', 'bull', 'bear', 'bull', 'bear', 'bear', 'bear', 'bull', 'bull', 'horizontal', 'bear', 'bull', 'bull', 'bull', 'bear', 'bull', 'bull', 'bull', 'bear', 'bull', 'bear', 'bear', 'bear', 'bear', 'bear', 'bull', 'horizontal', 'bear', 'bear', 'bear', 'bear', 'bear', 'bull', 'bear', 'bull', 'bull', 'bull', 'bear', 'bull', 'bear', 'bull', 'bull', 'bear', 'bull', 'bull', 'bull', 'bear', 'bull', 'bear', 'bull', 'bear', 'bull', 'bear', 'bear', 'horizontal', 'bear', 'bull', 'bull', 'bear', 'bull', 'bull', 'bull', 'bull', 'horizontal', 'horizontal', 'bear', 'bear', 'bull', 'bear', 'bear', 'bull', 'bull', 'bear', 'bear', 'bull', 'bear', 'bull', 'bull', 'horizontal']\n",
      "The lenght of data size is  1000\n"
     ]
    }
   ],
   "source": [
    "\n",
    "ticker = \"Nvidia\"\n",
    "df = pd.read_csv(f'./data_set/{ticker}.csv').head(1000) \n",
    "bull = []\n",
    "bear = []\n",
    "horizontal = []\n",
    "result = [] \n",
    "for i in range(len(df)):\n",
    "    if (df.close.iloc[i]) < (df.open.iloc[i]* 0.9980):\n",
    "        bear.append(i)\n",
    "        result.append(\"bear\")\n",
    "    elif df.close.iloc[i] > (df.open.iloc[i]* 1.002):\n",
    "        bull.append(i) \n",
    "        result.append(\"bull\")\n",
    "    else: \n",
    "        horizontal.append(i)\n",
    "        result.append(\"horizontal\")\n",
    "\n",
    "print(\"Bull days are:\", bull,len(bull)) \n",
    "print(\"Bear days are:\", bear,len(bear))\n",
    "print(\"Horizontal days are:\", horizontal,len(horizontal))\n",
    "print(\"Combined result is: \",result)\n",
    "print(\"The lenght of data size is \",len(result))\n",
    "np.save(\"result.npy\",result)"
   ]
  },
  {
   "cell_type": "code",
   "execution_count": 3,
   "metadata": {},
   "outputs": [],
   "source": [
    "# calculate the probablity that when a day is bull next day is also bull\n",
    "# calculate the probablity that when a day is bull next day is horizontal\n",
    "# calculate the probablity that when a day is bull next day is bear\n",
    "bull_2_bull = 0\n",
    "bull_2_horizontal=0\n",
    "bull_2_bear = 0\n",
    "\n",
    "bear_2_bull = 0\n",
    "bear_2_horizontal = 0\n",
    "bear_2_bear = 0\n",
    "\n",
    "horizontal_2_bull = 0\n",
    "horizontal_2_horizontal = 0\n",
    "horizontal_2_bear = 0"
   ]
  },
  {
   "cell_type": "code",
   "execution_count": 4,
   "metadata": {},
   "outputs": [
    {
     "name": "stdout",
     "output_type": "stream",
     "text": [
      "[225 222  31]\n",
      "[223 197  32]\n",
      "[30 32  7]\n"
     ]
    }
   ],
   "source": [
    "prob_bull = np.zeros(3,dtype=int)\n",
    "prob_bear = np.zeros(3,dtype=int)\n",
    "prob_horizontal = np.zeros(3,dtype=int)\n",
    "\n",
    "for i in range(len(result)-1):\n",
    "    day = result[i]\n",
    "    tomorrow = result[i+1]\n",
    "    if day == 'bull':\n",
    "        if tomorrow == 'bull':    \n",
    "            prob_bull[0] += 1\n",
    "        elif tomorrow == 'bear':\n",
    "            prob_bull[1] += 1\n",
    "        else: prob_bull[2] +=1\n",
    "    elif day == 'bear':\n",
    "        if tomorrow == 'bull':\n",
    "            prob_bear[0] += 1   \n",
    "        elif tomorrow == 'bear':\n",
    "            prob_bear[1] += 1\n",
    "        else: prob_bear[2] +=1\n",
    "    else:\n",
    "        if tomorrow == 'bull':\n",
    "            prob_horizontal[0] += 1   \n",
    "        elif tomorrow == 'bear':\n",
    "            prob_horizontal[1] += 1\n",
    "        else: prob_horizontal[2] +=1\n",
    "\n",
    "print(prob_bull)\n",
    "print(prob_bear)\n",
    "print(prob_horizontal)\n",
    "    \n"
   ]
  },
  {
   "cell_type": "markdown",
   "metadata": {},
   "source": [
    "the matrix will denote that \n",
    "\n",
    "0,0 bull bull\n",
    "0,1 bull horizontal\n",
    "0,2 bull bear\n",
    "\n",
    "1,0 horizontal bull\n",
    "1,1 horizontal horizontal\n",
    "1,2 horizontal bear\n",
    "\n",
    "2,0 bear bull\n",
    "2,1 bear horizontal\n",
    "2,2 bear bear \n"
   ]
  },
  {
   "cell_type": "code",
   "execution_count": 5,
   "metadata": {},
   "outputs": [
    {
     "name": "stdout",
     "output_type": "stream",
     "text": [
      "date      2024-10-04 00:00:00-04:00\n",
      "open                     124.919903\n",
      "high                     125.019886\n",
      "low                      121.810403\n",
      "close                    124.899902\n",
      "volume                    243678100\n",
      "Name: 999, dtype: object\n"
     ]
    }
   ],
   "source": [
    "bull_c = np.sum(prob_bull)\n",
    "bear_c = np.sum(prob_bear)\n",
    "horizontal_c = np.sum(prob_horizontal)\n",
    "\n",
    "# find the probablities\n",
    "bull_bull = prob_bull[0]/bull_c\n",
    "bull_bear = prob_bull[1]/bull_c\n",
    "bull_horizontal = prob_bull[2]/bull_c\n",
    "\n",
    "bear_bull = prob_bear[0]/bear_c\n",
    "bear_bear = prob_bear[1]/bear_c\n",
    "bear_horizontal = prob_bear[2]/bear_c\n",
    "\n",
    "horizontal_bull = prob_horizontal[0]/horizontal_c\n",
    "horizontal_bear = prob_horizontal[1]/horizontal_c\n",
    "horizontal_horizontal = prob_horizontal[2]/horizontal_c\n",
    "\n",
    "matrix = np.array([\n",
    "                    [bull_bull,bull_horizontal,bull_bear],\n",
    "                    [horizontal_bull,horizontal_horizontal,horizontal_bear],\n",
    "                    [bear_bull,bear_horizontal,bear_bear]])\n",
    "#print(matrix)\n",
    "print(df.loc[df.index.max()])  # Mevcut en büyük index değerini gösterir\n",
    "np.save(\"matrix.npy\",matrix)\n",
    "\n"
   ]
  },
  {
   "cell_type": "markdown",
   "metadata": {},
   "source": [
    "Lets see what markov chain tells us for the next day \n",
    "\n",
    "We trade at the days what the indicators allows as (denoted as 1)"
   ]
  }
 ],
 "metadata": {
  "kernelspec": {
   "display_name": "myenv",
   "language": "python",
   "name": "python3"
  },
  "language_info": {
   "codemirror_mode": {
    "name": "ipython",
    "version": 3
   },
   "file_extension": ".py",
   "mimetype": "text/x-python",
   "name": "python",
   "nbconvert_exporter": "python",
   "pygments_lexer": "ipython3",
   "version": "3.10.13"
  }
 },
 "nbformat": 4,
 "nbformat_minor": 2
}
